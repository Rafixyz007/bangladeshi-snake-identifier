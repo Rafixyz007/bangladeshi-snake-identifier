{
  "nbformat": 4,
  "nbformat_minor": 0,
  "metadata": {
    "colab": {
      "provenance": []
    },
    "kernelspec": {
      "name": "python3",
      "display_name": "Python 3"
    },
    "language_info": {
      "name": "python"
    }
  },
  "cells": [
    {
      "cell_type": "markdown",
      "source": [
        "# 🐍 Bangladeshi Snake Recognizer  \n",
        "\n",
        "| No. | English Name            | বাংলা নাম          | Type            |\n",
        "|-----|-------------------------|-------------------|-----------------|\n",
        "| 1   | Spectacled Cobra        | গোখরা             | Venomous        |\n",
        "| 2   | Monocled Cobra          | চশমা গোখরা        | Venomous        |\n",
        "| 3   | King Cobra              | রাজ গোখরা         | Venomous        |\n",
        "| 4   | Common Krait            | কালাই সাপ         | Venomous        |\n",
        "| 5   | Banded Krait            | ব্যান্ডেড ক্রাইট  | Venomous        |\n",
        "| 6   | Russell's Viper         | চন্দ্রবোড়া        | Venomous        |\n",
        "| 7   | Saw-scaled Viper        | একিস ভাইপার      | Venomous        |\n",
        "| 8   | Green Pit Viper         | সবুজ পিট ভাইপার   | Venomous        |\n",
        "| 9   | Beaked Sea Snake        | সমুদ্র সাপ        | Venomous        |\n",
        "| 10  | Yellow-lipped Sea Krait | সমুদ্র ক্রাইট     | Venomous        |\n",
        "| 11  | Indian Rock Python      | আজগর              | Non-Venomous    |\n",
        "| 12  | Rat Snake               | দাড়াশ             | Non-Venomous    |\n",
        "| 13  | Checkered Keelback      | ধামন              | Non-Venomous    |\n",
        "| 14  | Common Wolf Snake       | নেকড়ে সাপ         | Non-Venomous    |\n",
        "| 15  | Green Trinket Snake     | সবুজ সাপ          | Non-Venomous    |\n",
        "| 16  | Bronzeback Tree Snake   | গাছে ওঠা সাপ     | Non-Venomous    |\n",
        "| 17  | Common Kukri Snake      | কুক্রি সাপ        | Non-Venomous    |\n",
        "\n",
        "\n"
      ],
      "metadata": {
        "id": "n34vogz0U3Dd"
      }
    },
    {
      "cell_type": "code",
      "execution_count": null,
      "metadata": {
        "id": "oVLeWmXZg-x9"
      },
      "outputs": [],
      "source": [
        "#|default_exp app"
      ]
    },
    {
      "cell_type": "code",
      "source": [
        "!pip install -Uqq fastai gradio nbdev"
      ],
      "metadata": {
        "colab": {
          "base_uri": "https://localhost:8080/"
        },
        "id": "pMOgf8zLhfTO",
        "outputId": "9f2c1035-d6b7-4739-d974-252a7f6faefc"
      },
      "execution_count": null,
      "outputs": [
        {
          "output_type": "stream",
          "name": "stdout",
          "text": [
            "\u001b[2K   \u001b[90m━━━━━━━━━━━━━━━━━━━━━━━━━━━━━━━━━━━━━━━━\u001b[0m \u001b[32m60.4/60.4 MB\u001b[0m \u001b[31m16.7 MB/s\u001b[0m eta \u001b[36m0:00:00\u001b[0m\n",
            "\u001b[2K   \u001b[90m━━━━━━━━━━━━━━━━━━━━━━━━━━━━━━━━━━━━━━━━\u001b[0m \u001b[32m325.0/325.0 kB\u001b[0m \u001b[31m22.4 MB/s\u001b[0m eta \u001b[36m0:00:00\u001b[0m\n",
            "\u001b[2K   \u001b[90m━━━━━━━━━━━━━━━━━━━━━━━━━━━━━━━━━━━━━━━━\u001b[0m \u001b[32m70.3/70.3 kB\u001b[0m \u001b[31m5.3 MB/s\u001b[0m eta \u001b[36m0:00:00\u001b[0m\n",
            "\u001b[2K   \u001b[90m━━━━━━━━━━━━━━━━━━━━━━━━━━━━━━━━━━━━━━━━\u001b[0m \u001b[32m62.4/62.4 kB\u001b[0m \u001b[31m4.4 MB/s\u001b[0m eta \u001b[36m0:00:00\u001b[0m\n",
            "\u001b[2K   \u001b[90m━━━━━━━━━━━━━━━━━━━━━━━━━━━━━━━━━━━━━━━━\u001b[0m \u001b[32m1.6/1.6 MB\u001b[0m \u001b[31m66.1 MB/s\u001b[0m eta \u001b[36m0:00:00\u001b[0m\n",
            "\u001b[?25h"
          ]
        }
      ]
    },
    {
      "cell_type": "code",
      "source": [
        "from fastai.vision.all import *"
      ],
      "metadata": {
        "id": "my8wlbU9hjhm"
      },
      "execution_count": null,
      "outputs": []
    },
    {
      "cell_type": "code",
      "source": [
        "#!export\n",
        "from fastai.vision.all import load_learner\n",
        "import gradio as gr\n",
        "import os"
      ],
      "metadata": {
        "id": "6WodWLhLhmEN"
      },
      "execution_count": null,
      "outputs": []
    },
    {
      "cell_type": "code",
      "source": [
        "from google.colab import drive\n",
        "drive.mount(\"/content/drive\")"
      ],
      "metadata": {
        "colab": {
          "base_uri": "https://localhost:8080/"
        },
        "id": "nxLG-DNky8O7",
        "outputId": "95c13549-cc70-405a-d0df-3ccb544d48ce"
      },
      "execution_count": null,
      "outputs": [
        {
          "output_type": "stream",
          "name": "stdout",
          "text": [
            "Mounted at /content/drive\n"
          ]
        }
      ]
    },
    {
      "cell_type": "code",
      "source": [
        "%cd /content/drive/My Drive/Bangladeshi_snake_recognizer"
      ],
      "metadata": {
        "colab": {
          "base_uri": "https://localhost:8080/"
        },
        "id": "h_jCxOLMzEfr",
        "outputId": "982ef4a0-f612-45c5-9068-2268af0e30fd"
      },
      "execution_count": null,
      "outputs": [
        {
          "output_type": "stream",
          "name": "stdout",
          "text": [
            "/content/drive/My Drive/Bangladeshi_snake_recognizer\n"
          ]
        }
      ]
    },
    {
      "cell_type": "code",
      "source": [
        "# #!export\n",
        "model = load_learner('bangladeshi-snake-recognizer-v3.pkl')"
      ],
      "metadata": {
        "id": "LF-sE7_IhpPC"
      },
      "execution_count": null,
      "outputs": []
    },
    {
      "cell_type": "code",
      "source": [
        "# Mapping English → Bangla\n",
        "english_to_bangla = {\n",
        "    \"Banded Krait\": \"ব্যান্ডেড ক্রাইট\",\n",
        "    \"Beaked Sea Snake\": \"সমুদ্র সাপ\",\n",
        "    \"Bronzeback Tree Snake\": \"গাছে ওঠা সাপ\",\n",
        "    \"Checkered Keelback\": \"ধামন\",\n",
        "    \"Common Krait\": \"কালাই সাপ\",\n",
        "    \"Common Kukri Snake\": \"কুক্রি সাপ\",\n",
        "    \"Common Wolf Snake\": \"নেকড়ে সাপ\",\n",
        "    \"Green Pit Viper\": \"সবুজ পিট ভাইপার\",\n",
        "    \"Green Trinket Snake\": \"সবুজ সাপ\",\n",
        "    \"Indian Rock Python\": \"আজগর\",\n",
        "    \"King Cobra\": \"রাজ গোখরা\",\n",
        "    \"Monocled Cobra\": \"চশমা গোখরা\",\n",
        "    \"Rat Snake\": \"দাড়াশ\",\n",
        "    \"Russell's Viper\": \"চন্দ্রবোড়া\",\n",
        "    \"Saw-scaled Viper\": \"একিস ভাইপার\",\n",
        "    \"Spectacled Cobra\": \"গোখরা\",\n",
        "    \"Yellow-lipped Sea Krait\": \"সমুদ্র ক্রাইট\"\n",
        "}\n",
        "\n",
        "# Mapping English → venom status\n",
        "venom_status = {\n",
        "    \"Banded Krait\": \"Venomous\",\n",
        "    \"Beaked Sea Snake\": \"Venomous\",\n",
        "    \"Bronzeback Tree Snake\": \"Non-Venomous\",\n",
        "    \"Checkered Keelback\": \"Non-Venomous\",\n",
        "    \"Common Krait\": \"Venomous\",\n",
        "    \"Common Kukri Snake\": \"Non-Venomous\",\n",
        "    \"Common Wolf Snake\": \"Non-Venomous\",\n",
        "    \"Green Pit Viper\": \"Venomous\",\n",
        "    \"Green Trinket Snake\": \"Non-Venomous\",\n",
        "    \"Indian Rock Python\": \"Non-Venomous\",\n",
        "    \"King Cobra\": \"Venomous\",\n",
        "    \"Monocled Cobra\": \"Venomous\",\n",
        "    \"Rat Snake\": \"Non-Venomous\",\n",
        "    \"Russell's Viper\": \"Venomous\",\n",
        "    \"Saw-scaled Viper\": \"Venomous\",\n",
        "    \"Spectacled Cobra\": \"Venomous\",\n",
        "    \"Yellow-lipped Sea Krait\": \"Venomous\"\n",
        "}\n"
      ],
      "metadata": {
        "id": "I5bTTP3nkOgh"
      },
      "execution_count": null,
      "outputs": []
    },
    {
      "cell_type": "code",
      "source": [
        "snake_details = {\n",
        "    \"Banded Krait\": {\n",
        "        \"Found\": \"South and Southeast Asia (India, Bangladesh, Myanmar, Thailand)\",\n",
        "        \"Venom Type\": \"Neurotoxic\",\n",
        "        \"Danger\": \"Highly venomous; potentially fatal but generally shy\"\n",
        "    },\n",
        "    \"Beaked Sea Snake\": {\n",
        "        \"Found\": \"Indian and Pacific Oceans, coastal waters of South Asia\",\n",
        "        \"Venom Type\": \"Neurotoxic\",\n",
        "        \"Danger\": \"Extremely venomous sea snake; can be deadly\"\n",
        "    },\n",
        "    \"Bronzeback Tree Snake\": {\n",
        "        \"Found\": \"South and Southeast Asia, often in trees and bushes\",\n",
        "        \"Venom Type\": \"Non-venomous\",\n",
        "        \"Danger\": \"Harmless to humans\"\n",
        "    },\n",
        "    \"Checkered Keelback\": {\n",
        "        \"Found\": \"South Asia, near rivers, ponds, and wetlands\",\n",
        "        \"Venom Type\": \"Non-venomous\",\n",
        "        \"Danger\": \"Harmless, sometimes mistaken for venomous snakes\"\n",
        "    },\n",
        "    \"Common Krait\": {\n",
        "        \"Found\": \"Indian subcontinent (India, Bangladesh, Sri Lanka, Nepal)\",\n",
        "        \"Venom Type\": \"Neurotoxic\",\n",
        "        \"Danger\": \"Highly venomous; responsible for many snakebite deaths\"\n",
        "    },\n",
        "    \"Common Kukri Snake\": {\n",
        "        \"Found\": \"South and Southeast Asia\",\n",
        "        \"Venom Type\": \"Non-venomous\",\n",
        "        \"Danger\": \"Harmless, but may bite defensively\"\n",
        "    },\n",
        "    \"Common Wolf Snake\": {\n",
        "        \"Found\": \"South and Southeast Asia, often near human settlements\",\n",
        "        \"Venom Type\": \"Non-venomous\",\n",
        "        \"Danger\": \"Harmless, easily confused with kraits\"\n",
        "    },\n",
        "    \"Green Pit Viper\": {\n",
        "        \"Found\": \"South and Southeast Asia, forests and plantations\",\n",
        "        \"Venom Type\": \"Hemotoxic (sometimes with mild neurotoxic effects)\",\n",
        "        \"Danger\": \"Venomous; bite is painful but rarely fatal\"\n",
        "    },\n",
        "    \"Green Trinket Snake\": {\n",
        "        \"Found\": \"India, Bangladesh, Sri Lanka, Nepal\",\n",
        "        \"Venom Type\": \"Non-venomous\",\n",
        "        \"Danger\": \"Harmless, active in trees and bushes\"\n",
        "    },\n",
        "    \"Indian Rock Python\": {\n",
        "        \"Found\": \"Indian subcontinent, grasslands, swamps, forests\",\n",
        "        \"Venom Type\": \"Non-venomous (constrictor)\",\n",
        "        \"Danger\": \"Large but harmless to humans; kills prey by constriction\"\n",
        "    },\n",
        "    \"King Cobra\": {\n",
        "        \"Found\": \"India, Southeast Asia, forests and plantations\",\n",
        "        \"Venom Type\": \"Neurotoxic\",\n",
        "        \"Danger\": \"World’s longest venomous snake; highly dangerous\"\n",
        "    },\n",
        "    \"Monocled Cobra\": {\n",
        "        \"Found\": \"South and Southeast Asia (especially Bangladesh, India, Thailand)\",\n",
        "        \"Venom Type\": \"Neurotoxic\",\n",
        "        \"Danger\": \"Highly venomous; responsible for many bites in Asia\"\n",
        "    },\n",
        "    \"Rat Snake\": {\n",
        "        \"Found\": \"South and Southeast Asia, often near fields and villages\",\n",
        "        \"Venom Type\": \"Non-venomous\",\n",
        "        \"Danger\": \"Harmless, useful for controlling rodents\"\n",
        "    },\n",
        "    \"Russell's Viper\": {\n",
        "        \"Found\": \"Indian subcontinent, grasslands, farmlands\",\n",
        "        \"Venom Type\": \"Hemotoxic (with strong tissue-damaging effects)\",\n",
        "        \"Danger\": \"Extremely dangerous; one of the 'Big Four' deadly snakes in India\"\n",
        "    },\n",
        "    \"Saw-scaled Viper\": {\n",
        "        \"Found\": \"South Asia, Middle East, arid regions\",\n",
        "        \"Venom Type\": \"Hemotoxic\",\n",
        "        \"Danger\": \"Highly venomous; small but aggressive, responsible for many deaths\"\n",
        "    },\n",
        "    \"Spectacled Cobra\": {\n",
        "        \"Found\": \"Indian subcontinent, fields, forests, villages\",\n",
        "        \"Venom Type\": \"Neurotoxic\",\n",
        "        \"Danger\": \"Highly venomous; iconic hooded cobra of India/Bangladesh\"\n",
        "    },\n",
        "    \"Yellow-lipped Sea Krait\": {\n",
        "        \"Found\": \"Indian and Pacific Oceans, coastal Asia\",\n",
        "        \"Venom Type\": \"Neurotoxic\",\n",
        "        \"Danger\": \"Very venomous sea snake; rarely aggressive to humans\"\n",
        "    }\n",
        "}\n"
      ],
      "metadata": {
        "id": "Inw7fI5lTDiw"
      },
      "execution_count": null,
      "outputs": []
    },
    {
      "cell_type": "code",
      "source": [
        "def recognize_image(image):\n",
        "    pred, idx, probs = model.predict(image)\n",
        "    class_names = model.dls.vocab  # may have underscores\n",
        "\n",
        "    # Combine English, Bangla, and Venom status for labels\n",
        "    labels = [\n",
        "        f\"{cls.replace('_', ' ')} ({english_to_bangla[cls.replace('_', ' ')]}) [{venom_status[cls.replace('_', ' ')]}]\"\n",
        "        for cls in class_names\n",
        "    ]\n",
        "\n",
        "    # Create dictionary with probabilities\n",
        "    result = dict(zip(labels, map(float, probs)))\n",
        "\n",
        "    # Find top prediction\n",
        "    top_snake = max(result, key=result.get)\n",
        "    top_prob = result[top_snake] * 100  # as percentage\n",
        "\n",
        "    return {\n",
        "        \"predictions\": {k: v*100 for k, v in result.items()},  # all probs in %\n",
        "        \"top_prediction\": {\"snake\": top_snake, \"probability\": top_prob}\n",
        "    }"
      ],
      "metadata": {
        "id": "mfpOejr92K3f"
      },
      "execution_count": null,
      "outputs": []
    },
    {
      "cell_type": "code",
      "source": [
        "img = PILImage.create(f'test images/unknown_04.jpg')\n",
        "img.thumbnail((192,192))\n",
        "img"
      ],
      "metadata": {
        "colab": {
          "base_uri": "https://localhost:8080/",
          "height": 145
        },
        "id": "Ndbq7C9v0rQu",
        "outputId": "b83725c6-c69e-4fc2-98ee-2d91d3d878ca"
      },
      "execution_count": null,
      "outputs": [
        {
          "output_type": "execute_result",
          "data": {
            "text/plain": [
              "PILImage mode=RGB size=192x128"
            ],
            "image/png": "[encoded data removed]",
            "image/jpeg": "[encoded data removed]"
          },
          "metadata": {},
          "execution_count": 13
        }
      ]
    },
    {
      "cell_type": "code",
      "source": [
        "recognize_image(img)"
      ],
      "metadata": {
        "colab": {
          "base_uri": "https://localhost:8080/",
          "height": 347
        },
        "id": "XXVbcsbt0tOO",
        "outputId": "3036e0f6-8306-4154-f10c-6b268c049028"
      },
      "execution_count": null,
      "outputs": [
        {
          "output_type": "display_data",
          "data": {
            "text/plain": [
              "<IPython.core.display.HTML object>"
            ],
            "text/html": [
              "\n",
              "<style>\n",
              "    /* Turns off some styling */\n",
              "    progress {\n",
              "        /* gets rid of default border in Firefox and Opera. */\n",
              "        border: none;\n",
              "        /* Needs to be in here for Safari polyfill so background images work as expected. */\n",
              "        background-size: auto;\n",
              "    }\n",
              "    progress:not([value]), progress:not([value])::-webkit-progress-bar {\n",
              "        background: repeating-linear-gradient(45deg, #7e7e7e, #7e7e7e 10px, #5c5c5c 10px, #5c5c5c 20px);\n",
              "    }\n",
              "    .progress-bar-interrupted, .progress-bar-interrupted::-webkit-progress-bar {\n",
              "        background: #F44336;\n",
              "    }\n",
              "</style>\n"
            ]
          },
          "metadata": {}
        },
        {
          "output_type": "display_data",
          "data": {
            "text/plain": [
              "<IPython.core.display.HTML object>"
            ],
            "text/html": []
          },
          "metadata": {}
        },
        {
          "output_type": "execute_result",
          "data": {
            "text/plain": [
              "{'predictions': {'Banded Krait (ব্যান্ডেড ক্রাইট) [Venomous]': 0.001219696605403442,\n",
              "  'Beaked Sea Snake (সমুদ্র সাপ) [Venomous]': 0.00589518022025004,\n",
              "  'Bronzeback Tree Snake (গাছে ওঠা সাপ) [Non-Venomous]': 0.0005967284778307658,\n",
              "  'Checkered Keelback (ধামন) [Non-Venomous]': 0.00829224445624277,\n",
              "  'Common Krait (কালাই সাপ) [Venomous]': 0.008215740672312677,\n",
              "  'Common Kukri Snake (কুক্রি সাপ) [Non-Venomous]': 0.0012797900126315653,\n",
              "  'Common Wolf Snake (নেকড়ে সাপ) [Non-Venomous]': 0.0002754187562459265,\n",
              "  'Green Pit Viper (সবুজ পিট ভাইপার) [Venomous]': 0.0007651973646716215,\n",
              "  'Green Trinket Snake (সবুজ সাপ) [Non-Venomous]': 0.015407305909320712,\n",
              "  'Indian Rock Python (আজগর) [Non-Venomous]': 0.0023563577997265384,\n",
              "  'King Cobra (রাজ গোখরা) [Venomous]': 0.13687829487025738,\n",
              "  'Monocled Cobra (চশমা গোখরা) [Venomous]': 0.1396568724885583,\n",
              "  'Rat Snake (দাড়াশ) [Non-Venomous]': 99.59267377853394,\n",
              "  \"Russell's Viper (চন্দ্রবোড়া) [Venomous]\": 0.007549461588496342,\n",
              "  'Saw-scaled Viper (একিস ভাইপার) [Venomous]': 0.008618286665296182,\n",
              "  'Spectacled Cobra (গোখরা) [Venomous]': 0.06823047297075391,\n",
              "  'Yellow-lipped Sea Krait (সমুদ্র ক্রাইট) [Venomous]': 0.002080363265122287},\n",
              " 'top_prediction': {'snake': 'Rat Snake (দাড়াশ) [Non-Venomous]',\n",
              "  'probability': 99.59267377853394}}"
            ]
          },
          "metadata": {},
          "execution_count": 14
        }
      ]
    },
    {
      "cell_type": "code",
      "source": [
        "# Path to your test images folder\n",
        "test_folder = \"test images\"\n",
        "\n",
        "# Collect all image paths\n",
        "example_images = [\n",
        "    os.path.join(test_folder, f)\n",
        "    for f in os.listdir(test_folder)\n",
        "    if f.endswith((\".jpg\", \".png\", \".jpeg\"))\n",
        "]\n",
        "\n",
        "def gradio_predict(img):\n",
        "    preds = recognize_image(img)\n",
        "    label_dict = {k: v/100 for k, v in preds['predictions'].items()}\n",
        "\n",
        "    top_prediction = preds['top_prediction']['snake']\n",
        "    english_name = top_prediction.split(\" (\")[0]  # Extract English name only\n",
        "\n",
        "    # Lookup details\n",
        "    details = snake_details.get(english_name, {})\n",
        "    if details:\n",
        "        details_text = (\n",
        "            f\"### Snake Details\\n\"\n",
        "            f\"- **Found:** {details['Found']}\\n\"\n",
        "            f\"- **Venom Type:** {details['Venom Type']}\\n\"\n",
        "            f\"- **Danger:** {details['Danger']}\"\n",
        "        )\n",
        "    else:\n",
        "        details_text = \"No details available.\"\n",
        "\n",
        "    return top_prediction, details_text, label_dict\n",
        "\n",
        "\n",
        "#Interface must be outside the function\n",
        "iface = gr.Interface(\n",
        "    fn=gradio_predict,\n",
        "    inputs=gr.Image(type=\"pil\"),\n",
        "    outputs=[\n",
        "        gr.Textbox(label=\"Top Prediction\"),\n",
        "        gr.Markdown(label=\"Snake Details\"),   #Prettier output\n",
        "        gr.Label(num_top_classes=None, label=\"All Predictions\")\n",
        "    ],\n",
        "    title=\"Snake Recognition\",\n",
        "    description=\"Upload a snake image OR click an example to identify it along with venom status.\",\n",
        "    examples=example_images\n",
        ")\n",
        "\n",
        "iface.launch()\n"
      ],
      "metadata": {
        "colab": {
          "base_uri": "https://localhost:8080/",
          "height": 610
        },
        "id": "Yr-LfHSu034z",
        "outputId": "b71b698a-43fc-4150-c0fe-864a7537db75"
      },
      "execution_count": null,
      "outputs": [
        {
          "output_type": "stream",
          "name": "stdout",
          "text": [
            "Colab notebook detected. To show errors in colab notebook, set debug=True in launch()\n",
            "* Running on public URL: https://c44657fb27c4b1ea54.gradio.live\n",
            "\n",
            "This share link expires in 1 week. For free permanent hosting and GPU upgrades, run `gradio deploy` from the terminal in the working directory to deploy to Hugging Face Spaces (https://huggingface.co/spaces)\n"
          ]
        },
        {
          "output_type": "display_data",
          "data": {
            "text/plain": [
              "<IPython.core.display.HTML object>"
            ],
            "text/html": [
              "<div><iframe src=\"https://c44657fb27c4b1ea54.gradio.live\" width=\"100%\" height=\"500\" allow=\"autoplay; camera; microphone; clipboard-read; clipboard-write;\" frameborder=\"0\" allowfullscreen></iframe></div>"
            ]
          },
          "metadata": {}
        },
        {
          "output_type": "execute_result",
          "data": {
            "text/plain": []
          },
          "metadata": {},
          "execution_count": 15
        }
      ]
    },
    {
      "cell_type": "code",
      "source": [],
      "metadata": {
        "id": "GyBZqGnP_DqH"
      },
      "execution_count": null,
      "outputs": []
    }
  ]
}